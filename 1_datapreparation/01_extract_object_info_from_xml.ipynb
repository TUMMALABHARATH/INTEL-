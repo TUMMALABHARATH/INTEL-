{
 "cells": [
  {
   "cell_type": "code",
   "execution_count": 70,
   "id": "285713e6-b630-46b0-9249-0bc7812e9d7f",
   "metadata": {},
   "outputs": [],
   "source": [
    "import os\n",
    "from glob import glob # extract path of each file\n",
    "import pandas as pd # data preprocessing\n",
    "from xml.etree import ElementTree as et # parse information from XML\n",
    "from functools import reduce"
   ]
  },
  {
   "cell_type": "code",
   "execution_count": 71,
   "id": "eede96e5-481d-44ca-9655-2b9a3740225f",
   "metadata": {},
   "outputs": [],
   "source": [
    "import warnings\n",
    "warnings.filterwarnings('ignore')"
   ]
  },
  {
   "cell_type": "code",
   "execution_count": 72,
   "id": "acb79b96-d200-431d-9fa9-30b7c9668b9d",
   "metadata": {},
   "outputs": [],
   "source": [
    "xmlfiles = glob('./data_images/*.xml')\n",
    "# replace \\\\ with /\n",
    "replace_text = lambda x: x.replace('\\\\','/')\n",
    "xmlfiles = list(map(replace_text,xmlfiles))"
   ]
  },
  {
   "cell_type": "code",
   "execution_count": 73,
   "id": "052da173-c7e6-4748-a230-0fa69dbd3813",
   "metadata": {},
   "outputs": [
    {
     "data": {
      "text/plain": [
       "['./data_images/12.xml',\n",
       " './data_images/16.xml',\n",
       " './data_images/17.xml',\n",
       " './data_images/18.xml',\n",
       " './data_images/19.xml',\n",
       " './data_images/20.xml',\n",
       " './data_images/21.xml',\n",
       " './data_images/22.xml',\n",
       " './data_images/23.xml',\n",
       " './data_images/24.xml',\n",
       " './data_images/25.xml',\n",
       " './data_images/a.xml',\n",
       " './data_images/b.xml',\n",
       " './data_images/c.xml',\n",
       " './data_images/d.xml',\n",
       " './data_images/e.xml',\n",
       " './data_images/ff.xml',\n",
       " './data_images/g.xml',\n",
       " './data_images/h.xml',\n",
       " './data_images/i.xml',\n",
       " './data_images/j.xml',\n",
       " './data_images/k.xml',\n",
       " './data_images/l.xml']"
      ]
     },
     "execution_count": 73,
     "metadata": {},
     "output_type": "execute_result"
    }
   ],
   "source": [
    "xmlfiles\n"
   ]
  },
  {
   "cell_type": "code",
   "execution_count": 104,
   "id": "8a2e63a5-e241-4e46-91e4-f7e8a0d516e5",
   "metadata": {},
   "outputs": [],
   "source": [
    "def extract_text(filename):\n",
    "        tree = et.parse(filename)\n",
    "        root = tree.getroot()\n",
    "        # extract filename\n",
    "        image_name = root.find('filename').text\n",
    "        # width and height of the image\n",
    "        width = root.find('size').find('width').text\n",
    "        height = root.find('size').find('height').text\n",
    "        objs = root.findall('object')\n",
    "        parser = []\n",
    "        for obj in objs:\n",
    "            name = obj.find('name').text\n",
    "            bndbox = obj.find('bndbox')\n",
    "            xmin = bndbox.find('xmin').text\n",
    "            xmax = bndbox.find('xmax').text\n",
    "            ymin = bndbox.find('ymin').text\n",
    "            ymax = bndbox.find('ymax').text\n",
    "            parser.append([image_name, width, height, name,xmin,xmax,ymin,ymax])\n",
    "        return parser"
   ]
  },
  {
   "cell_type": "code",
   "execution_count": 108,
   "id": "1231cb2b-24a8-4ef3-95c1-b781f998f78c",
   "metadata": {},
   "outputs": [],
   "source": [
    "parser_all = list(map(extract_text,xmlfiles))"
   ]
  },
  {
   "cell_type": "code",
   "execution_count": 110,
   "id": "f939b5fd-0818-4011-b7e1-3edde84f7c90",
   "metadata": {},
   "outputs": [],
   "source": [
    "data = reduce(lambda x, y : x+y,parser_all)"
   ]
  },
  {
   "cell_type": "code",
   "execution_count": 112,
   "id": "f8304107-7d8f-4f26-b6f7-52d3c11c5740",
   "metadata": {},
   "outputs": [],
   "source": [
    "df = pd.DataFrame(data,columns = ['filename','width','height','name','xmin','xmax','ymin','ymax'])"
   ]
  },
  {
   "cell_type": "code",
   "execution_count": 113,
   "id": "c461c111-59c0-452f-b843-51275464e52c",
   "metadata": {},
   "outputs": [
    {
     "data": {
      "text/html": [
       "<div>\n",
       "<style scoped>\n",
       "    .dataframe tbody tr th:only-of-type {\n",
       "        vertical-align: middle;\n",
       "    }\n",
       "\n",
       "    .dataframe tbody tr th {\n",
       "        vertical-align: top;\n",
       "    }\n",
       "\n",
       "    .dataframe thead th {\n",
       "        text-align: right;\n",
       "    }\n",
       "</style>\n",
       "<table border=\"1\" class=\"dataframe\">\n",
       "  <thead>\n",
       "    <tr style=\"text-align: right;\">\n",
       "      <th></th>\n",
       "      <th>filename</th>\n",
       "      <th>width</th>\n",
       "      <th>height</th>\n",
       "      <th>name</th>\n",
       "      <th>xmin</th>\n",
       "      <th>xmax</th>\n",
       "      <th>ymin</th>\n",
       "      <th>ymax</th>\n",
       "    </tr>\n",
       "  </thead>\n",
       "  <tbody>\n",
       "    <tr>\n",
       "      <th>0</th>\n",
       "      <td>12.jpg</td>\n",
       "      <td>1134</td>\n",
       "      <td>488</td>\n",
       "      <td>Doctor</td>\n",
       "      <td>493</td>\n",
       "      <td>598</td>\n",
       "      <td>113</td>\n",
       "      <td>277</td>\n",
       "    </tr>\n",
       "    <tr>\n",
       "      <th>1</th>\n",
       "      <td>12.jpg</td>\n",
       "      <td>1134</td>\n",
       "      <td>488</td>\n",
       "      <td>patient</td>\n",
       "      <td>162</td>\n",
       "      <td>238</td>\n",
       "      <td>266</td>\n",
       "      <td>351</td>\n",
       "    </tr>\n",
       "    <tr>\n",
       "      <th>2</th>\n",
       "      <td>12.jpg</td>\n",
       "      <td>1134</td>\n",
       "      <td>488</td>\n",
       "      <td>patient</td>\n",
       "      <td>608</td>\n",
       "      <td>679</td>\n",
       "      <td>194</td>\n",
       "      <td>271</td>\n",
       "    </tr>\n",
       "    <tr>\n",
       "      <th>3</th>\n",
       "      <td>12.jpg</td>\n",
       "      <td>1134</td>\n",
       "      <td>488</td>\n",
       "      <td>monitoring system</td>\n",
       "      <td>372</td>\n",
       "      <td>476</td>\n",
       "      <td>134</td>\n",
       "      <td>291</td>\n",
       "    </tr>\n",
       "    <tr>\n",
       "      <th>4</th>\n",
       "      <td>16.jpg</td>\n",
       "      <td>1500</td>\n",
       "      <td>1000</td>\n",
       "      <td>Doctor</td>\n",
       "      <td>811</td>\n",
       "      <td>1030</td>\n",
       "      <td>281</td>\n",
       "      <td>601</td>\n",
       "    </tr>\n",
       "  </tbody>\n",
       "</table>\n",
       "</div>"
      ],
      "text/plain": [
       "  filename width height               name xmin  xmax ymin ymax\n",
       "0   12.jpg  1134    488             Doctor  493   598  113  277\n",
       "1   12.jpg  1134    488            patient  162   238  266  351\n",
       "2   12.jpg  1134    488            patient  608   679  194  271\n",
       "3   12.jpg  1134    488  monitoring system  372   476  134  291\n",
       "4   16.jpg  1500   1000             Doctor  811  1030  281  601"
      ]
     },
     "execution_count": 113,
     "metadata": {},
     "output_type": "execute_result"
    }
   ],
   "source": [
    "df.head()"
   ]
  },
  {
   "cell_type": "code",
   "execution_count": 114,
   "id": "16474a41-5a5e-4c65-91b9-016779c0af94",
   "metadata": {},
   "outputs": [
    {
     "data": {
      "text/plain": [
       "(57, 8)"
      ]
     },
     "execution_count": 114,
     "metadata": {},
     "output_type": "execute_result"
    }
   ],
   "source": [
    "df.shape"
   ]
  },
  {
   "cell_type": "code",
   "execution_count": 115,
   "id": "b183111e-c802-49bb-880f-cf4847b9e0e7",
   "metadata": {},
   "outputs": [
    {
     "data": {
      "text/plain": [
       "name\n",
       "patient              24\n",
       "Doctor               15\n",
       "monitoring system     8\n",
       "Nurse                 5\n",
       "family member         5\n",
       "Name: count, dtype: int64"
      ]
     },
     "execution_count": 115,
     "metadata": {},
     "output_type": "execute_result"
    }
   ],
   "source": [
    "df['name'].value_counts()"
   ]
  },
  {
   "cell_type": "code",
   "execution_count": 116,
   "id": "0a30d410-85c0-4b54-9906-8f3217866035",
   "metadata": {},
   "outputs": [
    {
     "name": "stdout",
     "output_type": "stream",
     "text": [
      "<class 'pandas.core.frame.DataFrame'>\n",
      "RangeIndex: 57 entries, 0 to 56\n",
      "Data columns (total 8 columns):\n",
      " #   Column    Non-Null Count  Dtype \n",
      "---  ------    --------------  ----- \n",
      " 0   filename  57 non-null     object\n",
      " 1   width     57 non-null     object\n",
      " 2   height    57 non-null     object\n",
      " 3   name      57 non-null     object\n",
      " 4   xmin      57 non-null     object\n",
      " 5   xmax      57 non-null     object\n",
      " 6   ymin      57 non-null     object\n",
      " 7   ymax      57 non-null     object\n",
      "dtypes: object(8)\n",
      "memory usage: 3.7+ KB\n"
     ]
    }
   ],
   "source": [
    "df.info()"
   ]
  },
  {
   "cell_type": "code",
   "execution_count": 117,
   "id": "2f91f9b8-48fc-435d-a97d-a80d1905f073",
   "metadata": {},
   "outputs": [
    {
     "name": "stdout",
     "output_type": "stream",
     "text": [
      "<class 'pandas.core.frame.DataFrame'>\n",
      "RangeIndex: 57 entries, 0 to 56\n",
      "Data columns (total 8 columns):\n",
      " #   Column    Non-Null Count  Dtype \n",
      "---  ------    --------------  ----- \n",
      " 0   filename  57 non-null     object\n",
      " 1   width     57 non-null     int64 \n",
      " 2   height    57 non-null     int64 \n",
      " 3   name      57 non-null     object\n",
      " 4   xmin      57 non-null     int64 \n",
      " 5   xmax      57 non-null     int64 \n",
      " 6   ymin      57 non-null     int64 \n",
      " 7   ymax      57 non-null     int64 \n",
      "dtypes: int64(6), object(2)\n",
      "memory usage: 3.7+ KB\n"
     ]
    }
   ],
   "source": [
    "cols = ['width','height','xmin','xmax','ymin','ymax']\n",
    "df[cols] = df[cols].astype(int)\n",
    "df.info()"
   ]
  },
  {
   "cell_type": "code",
   "execution_count": 118,
   "id": "de8bd658-ad6c-4800-b3ec-5911b1f109ed",
   "metadata": {},
   "outputs": [],
   "source": [
    "df['center_x'] = ((df['xmax']+df['xmin'])/2)/df['width']\n",
    "df['center_y'] = ((df['ymax']+df['ymin'])/2)/df['height']\n",
    "# w \n",
    "df['w'] = (df['xmax']-df['xmin'])/df['width']\n",
    "# h \n",
    "df['h'] = (df['ymax']-df['ymin'])/df['height']"
   ]
  },
  {
   "cell_type": "code",
   "execution_count": 119,
   "id": "0369755c-b1a2-4113-b75e-c0c4a4384207",
   "metadata": {},
   "outputs": [
    {
     "data": {
      "text/html": [
       "<div>\n",
       "<style scoped>\n",
       "    .dataframe tbody tr th:only-of-type {\n",
       "        vertical-align: middle;\n",
       "    }\n",
       "\n",
       "    .dataframe tbody tr th {\n",
       "        vertical-align: top;\n",
       "    }\n",
       "\n",
       "    .dataframe thead th {\n",
       "        text-align: right;\n",
       "    }\n",
       "</style>\n",
       "<table border=\"1\" class=\"dataframe\">\n",
       "  <thead>\n",
       "    <tr style=\"text-align: right;\">\n",
       "      <th></th>\n",
       "      <th>filename</th>\n",
       "      <th>width</th>\n",
       "      <th>height</th>\n",
       "      <th>name</th>\n",
       "      <th>xmin</th>\n",
       "      <th>xmax</th>\n",
       "      <th>ymin</th>\n",
       "      <th>ymax</th>\n",
       "      <th>center_x</th>\n",
       "      <th>center_y</th>\n",
       "      <th>w</th>\n",
       "      <th>h</th>\n",
       "    </tr>\n",
       "  </thead>\n",
       "  <tbody>\n",
       "    <tr>\n",
       "      <th>0</th>\n",
       "      <td>12.jpg</td>\n",
       "      <td>1134</td>\n",
       "      <td>488</td>\n",
       "      <td>Doctor</td>\n",
       "      <td>493</td>\n",
       "      <td>598</td>\n",
       "      <td>113</td>\n",
       "      <td>277</td>\n",
       "      <td>0.481041</td>\n",
       "      <td>0.399590</td>\n",
       "      <td>0.092593</td>\n",
       "      <td>0.336066</td>\n",
       "    </tr>\n",
       "    <tr>\n",
       "      <th>1</th>\n",
       "      <td>12.jpg</td>\n",
       "      <td>1134</td>\n",
       "      <td>488</td>\n",
       "      <td>patient</td>\n",
       "      <td>162</td>\n",
       "      <td>238</td>\n",
       "      <td>266</td>\n",
       "      <td>351</td>\n",
       "      <td>0.176367</td>\n",
       "      <td>0.632172</td>\n",
       "      <td>0.067019</td>\n",
       "      <td>0.174180</td>\n",
       "    </tr>\n",
       "    <tr>\n",
       "      <th>2</th>\n",
       "      <td>12.jpg</td>\n",
       "      <td>1134</td>\n",
       "      <td>488</td>\n",
       "      <td>patient</td>\n",
       "      <td>608</td>\n",
       "      <td>679</td>\n",
       "      <td>194</td>\n",
       "      <td>271</td>\n",
       "      <td>0.567460</td>\n",
       "      <td>0.476434</td>\n",
       "      <td>0.062610</td>\n",
       "      <td>0.157787</td>\n",
       "    </tr>\n",
       "    <tr>\n",
       "      <th>3</th>\n",
       "      <td>12.jpg</td>\n",
       "      <td>1134</td>\n",
       "      <td>488</td>\n",
       "      <td>monitoring system</td>\n",
       "      <td>372</td>\n",
       "      <td>476</td>\n",
       "      <td>134</td>\n",
       "      <td>291</td>\n",
       "      <td>0.373898</td>\n",
       "      <td>0.435451</td>\n",
       "      <td>0.091711</td>\n",
       "      <td>0.321721</td>\n",
       "    </tr>\n",
       "    <tr>\n",
       "      <th>4</th>\n",
       "      <td>16.jpg</td>\n",
       "      <td>1500</td>\n",
       "      <td>1000</td>\n",
       "      <td>Doctor</td>\n",
       "      <td>811</td>\n",
       "      <td>1030</td>\n",
       "      <td>281</td>\n",
       "      <td>601</td>\n",
       "      <td>0.613667</td>\n",
       "      <td>0.441000</td>\n",
       "      <td>0.146000</td>\n",
       "      <td>0.320000</td>\n",
       "    </tr>\n",
       "  </tbody>\n",
       "</table>\n",
       "</div>"
      ],
      "text/plain": [
       "  filename  width  height               name  xmin  xmax  ymin  ymax  \\\n",
       "0   12.jpg   1134     488             Doctor   493   598   113   277   \n",
       "1   12.jpg   1134     488            patient   162   238   266   351   \n",
       "2   12.jpg   1134     488            patient   608   679   194   271   \n",
       "3   12.jpg   1134     488  monitoring system   372   476   134   291   \n",
       "4   16.jpg   1500    1000             Doctor   811  1030   281   601   \n",
       "\n",
       "   center_x  center_y         w         h  \n",
       "0  0.481041  0.399590  0.092593  0.336066  \n",
       "1  0.176367  0.632172  0.067019  0.174180  \n",
       "2  0.567460  0.476434  0.062610  0.157787  \n",
       "3  0.373898  0.435451  0.091711  0.321721  \n",
       "4  0.613667  0.441000  0.146000  0.320000  "
      ]
     },
     "execution_count": 119,
     "metadata": {},
     "output_type": "execute_result"
    }
   ],
   "source": [
    "df.head()"
   ]
  },
  {
   "cell_type": "code",
   "execution_count": 120,
   "id": "ea40c220-b80a-4958-a771-fd28429582f4",
   "metadata": {},
   "outputs": [],
   "source": [
    "images = df['filename'].unique()"
   ]
  },
  {
   "cell_type": "code",
   "execution_count": 121,
   "id": "f9f601f2-b747-467d-848a-1978771ace15",
   "metadata": {},
   "outputs": [
    {
     "data": {
      "text/plain": [
       "23"
      ]
     },
     "execution_count": 121,
     "metadata": {},
     "output_type": "execute_result"
    }
   ],
   "source": [
    "len(images)"
   ]
  },
  {
   "cell_type": "code",
   "execution_count": 122,
   "id": "37b5ee50-a9cb-495b-8022-0ec48962970b",
   "metadata": {},
   "outputs": [],
   "source": [
    "img_df = pd.DataFrame(images,columns=['filename'])\n",
    "img_train = tuple(img_df.sample(frac=0.8)['filename']) # shuffle and pick 80% of images"
   ]
  },
  {
   "cell_type": "code",
   "execution_count": 124,
   "id": "b7555cf5-e702-4f11-9949-06c09ee04d4e",
   "metadata": {},
   "outputs": [],
   "source": [
    "img_test = tuple(img_df.query(f'filename not in {img_train}')['filename']) # take rest 20% images"
   ]
  },
  {
   "cell_type": "code",
   "execution_count": 125,
   "id": "6a60bc56-edb5-4f8d-bde9-ff0baa8ea31a",
   "metadata": {},
   "outputs": [
    {
     "data": {
      "text/plain": [
       "(18, 5)"
      ]
     },
     "execution_count": 125,
     "metadata": {},
     "output_type": "execute_result"
    }
   ],
   "source": [
    "len(img_train), len(img_test)"
   ]
  },
  {
   "cell_type": "code",
   "execution_count": 126,
   "id": "6e897344-a88e-4355-a906-298319b96801",
   "metadata": {},
   "outputs": [],
   "source": [
    "train_df = df.query(f'filename in {img_train}')\n",
    "test_df = df.query(f'filename in {img_test}')"
   ]
  },
  {
   "cell_type": "code",
   "execution_count": 127,
   "id": "361240f4-3e1f-4b44-af2b-85648ec73972",
   "metadata": {},
   "outputs": [
    {
     "data": {
      "text/html": [
       "<div>\n",
       "<style scoped>\n",
       "    .dataframe tbody tr th:only-of-type {\n",
       "        vertical-align: middle;\n",
       "    }\n",
       "\n",
       "    .dataframe tbody tr th {\n",
       "        vertical-align: top;\n",
       "    }\n",
       "\n",
       "    .dataframe thead th {\n",
       "        text-align: right;\n",
       "    }\n",
       "</style>\n",
       "<table border=\"1\" class=\"dataframe\">\n",
       "  <thead>\n",
       "    <tr style=\"text-align: right;\">\n",
       "      <th></th>\n",
       "      <th>filename</th>\n",
       "      <th>width</th>\n",
       "      <th>height</th>\n",
       "      <th>name</th>\n",
       "      <th>xmin</th>\n",
       "      <th>xmax</th>\n",
       "      <th>ymin</th>\n",
       "      <th>ymax</th>\n",
       "      <th>center_x</th>\n",
       "      <th>center_y</th>\n",
       "      <th>w</th>\n",
       "      <th>h</th>\n",
       "    </tr>\n",
       "  </thead>\n",
       "  <tbody>\n",
       "    <tr>\n",
       "      <th>0</th>\n",
       "      <td>12.jpg</td>\n",
       "      <td>1134</td>\n",
       "      <td>488</td>\n",
       "      <td>Doctor</td>\n",
       "      <td>493</td>\n",
       "      <td>598</td>\n",
       "      <td>113</td>\n",
       "      <td>277</td>\n",
       "      <td>0.481041</td>\n",
       "      <td>0.399590</td>\n",
       "      <td>0.092593</td>\n",
       "      <td>0.336066</td>\n",
       "    </tr>\n",
       "    <tr>\n",
       "      <th>1</th>\n",
       "      <td>12.jpg</td>\n",
       "      <td>1134</td>\n",
       "      <td>488</td>\n",
       "      <td>patient</td>\n",
       "      <td>162</td>\n",
       "      <td>238</td>\n",
       "      <td>266</td>\n",
       "      <td>351</td>\n",
       "      <td>0.176367</td>\n",
       "      <td>0.632172</td>\n",
       "      <td>0.067019</td>\n",
       "      <td>0.174180</td>\n",
       "    </tr>\n",
       "    <tr>\n",
       "      <th>2</th>\n",
       "      <td>12.jpg</td>\n",
       "      <td>1134</td>\n",
       "      <td>488</td>\n",
       "      <td>patient</td>\n",
       "      <td>608</td>\n",
       "      <td>679</td>\n",
       "      <td>194</td>\n",
       "      <td>271</td>\n",
       "      <td>0.567460</td>\n",
       "      <td>0.476434</td>\n",
       "      <td>0.062610</td>\n",
       "      <td>0.157787</td>\n",
       "    </tr>\n",
       "    <tr>\n",
       "      <th>3</th>\n",
       "      <td>12.jpg</td>\n",
       "      <td>1134</td>\n",
       "      <td>488</td>\n",
       "      <td>monitoring system</td>\n",
       "      <td>372</td>\n",
       "      <td>476</td>\n",
       "      <td>134</td>\n",
       "      <td>291</td>\n",
       "      <td>0.373898</td>\n",
       "      <td>0.435451</td>\n",
       "      <td>0.091711</td>\n",
       "      <td>0.321721</td>\n",
       "    </tr>\n",
       "    <tr>\n",
       "      <th>4</th>\n",
       "      <td>16.jpg</td>\n",
       "      <td>1500</td>\n",
       "      <td>1000</td>\n",
       "      <td>Doctor</td>\n",
       "      <td>811</td>\n",
       "      <td>1030</td>\n",
       "      <td>281</td>\n",
       "      <td>601</td>\n",
       "      <td>0.613667</td>\n",
       "      <td>0.441000</td>\n",
       "      <td>0.146000</td>\n",
       "      <td>0.320000</td>\n",
       "    </tr>\n",
       "  </tbody>\n",
       "</table>\n",
       "</div>"
      ],
      "text/plain": [
       "  filename  width  height               name  xmin  xmax  ymin  ymax  \\\n",
       "0   12.jpg   1134     488             Doctor   493   598   113   277   \n",
       "1   12.jpg   1134     488            patient   162   238   266   351   \n",
       "2   12.jpg   1134     488            patient   608   679   194   271   \n",
       "3   12.jpg   1134     488  monitoring system   372   476   134   291   \n",
       "4   16.jpg   1500    1000             Doctor   811  1030   281   601   \n",
       "\n",
       "   center_x  center_y         w         h  \n",
       "0  0.481041  0.399590  0.092593  0.336066  \n",
       "1  0.176367  0.632172  0.067019  0.174180  \n",
       "2  0.567460  0.476434  0.062610  0.157787  \n",
       "3  0.373898  0.435451  0.091711  0.321721  \n",
       "4  0.613667  0.441000  0.146000  0.320000  "
      ]
     },
     "execution_count": 127,
     "metadata": {},
     "output_type": "execute_result"
    }
   ],
   "source": [
    "train_df.head()"
   ]
  },
  {
   "cell_type": "code",
   "execution_count": 128,
   "id": "1e5fc681-ef6a-4327-9b70-822026a989c8",
   "metadata": {},
   "outputs": [
    {
     "data": {
      "text/html": [
       "<div>\n",
       "<style scoped>\n",
       "    .dataframe tbody tr th:only-of-type {\n",
       "        vertical-align: middle;\n",
       "    }\n",
       "\n",
       "    .dataframe tbody tr th {\n",
       "        vertical-align: top;\n",
       "    }\n",
       "\n",
       "    .dataframe thead th {\n",
       "        text-align: right;\n",
       "    }\n",
       "</style>\n",
       "<table border=\"1\" class=\"dataframe\">\n",
       "  <thead>\n",
       "    <tr style=\"text-align: right;\">\n",
       "      <th></th>\n",
       "      <th>filename</th>\n",
       "      <th>width</th>\n",
       "      <th>height</th>\n",
       "      <th>name</th>\n",
       "      <th>xmin</th>\n",
       "      <th>xmax</th>\n",
       "      <th>ymin</th>\n",
       "      <th>ymax</th>\n",
       "      <th>center_x</th>\n",
       "      <th>center_y</th>\n",
       "      <th>w</th>\n",
       "      <th>h</th>\n",
       "    </tr>\n",
       "  </thead>\n",
       "  <tbody>\n",
       "    <tr>\n",
       "      <th>7</th>\n",
       "      <td>17.jpg</td>\n",
       "      <td>465</td>\n",
       "      <td>279</td>\n",
       "      <td>patient</td>\n",
       "      <td>126</td>\n",
       "      <td>205</td>\n",
       "      <td>155</td>\n",
       "      <td>248</td>\n",
       "      <td>0.355914</td>\n",
       "      <td>0.722222</td>\n",
       "      <td>0.169892</td>\n",
       "      <td>0.333333</td>\n",
       "    </tr>\n",
       "    <tr>\n",
       "      <th>9</th>\n",
       "      <td>19.jpg</td>\n",
       "      <td>1200</td>\n",
       "      <td>800</td>\n",
       "      <td>Nurse</td>\n",
       "      <td>658</td>\n",
       "      <td>842</td>\n",
       "      <td>162</td>\n",
       "      <td>463</td>\n",
       "      <td>0.625000</td>\n",
       "      <td>0.390625</td>\n",
       "      <td>0.153333</td>\n",
       "      <td>0.376250</td>\n",
       "    </tr>\n",
       "    <tr>\n",
       "      <th>10</th>\n",
       "      <td>19.jpg</td>\n",
       "      <td>1200</td>\n",
       "      <td>800</td>\n",
       "      <td>patient</td>\n",
       "      <td>350</td>\n",
       "      <td>625</td>\n",
       "      <td>411</td>\n",
       "      <td>694</td>\n",
       "      <td>0.406250</td>\n",
       "      <td>0.690625</td>\n",
       "      <td>0.229167</td>\n",
       "      <td>0.353750</td>\n",
       "    </tr>\n",
       "    <tr>\n",
       "      <th>23</th>\n",
       "      <td>25.jpg</td>\n",
       "      <td>468</td>\n",
       "      <td>180</td>\n",
       "      <td>patient</td>\n",
       "      <td>173</td>\n",
       "      <td>236</td>\n",
       "      <td>30</td>\n",
       "      <td>123</td>\n",
       "      <td>0.436966</td>\n",
       "      <td>0.425000</td>\n",
       "      <td>0.134615</td>\n",
       "      <td>0.516667</td>\n",
       "    </tr>\n",
       "    <tr>\n",
       "      <th>24</th>\n",
       "      <td>25.jpg</td>\n",
       "      <td>468</td>\n",
       "      <td>180</td>\n",
       "      <td>monitoring system</td>\n",
       "      <td>347</td>\n",
       "      <td>410</td>\n",
       "      <td>27</td>\n",
       "      <td>113</td>\n",
       "      <td>0.808761</td>\n",
       "      <td>0.388889</td>\n",
       "      <td>0.134615</td>\n",
       "      <td>0.477778</td>\n",
       "    </tr>\n",
       "  </tbody>\n",
       "</table>\n",
       "</div>"
      ],
      "text/plain": [
       "   filename  width  height               name  xmin  xmax  ymin  ymax  \\\n",
       "7    17.jpg    465     279            patient   126   205   155   248   \n",
       "9    19.jpg   1200     800              Nurse   658   842   162   463   \n",
       "10   19.jpg   1200     800            patient   350   625   411   694   \n",
       "23   25.jpg    468     180            patient   173   236    30   123   \n",
       "24   25.jpg    468     180  monitoring system   347   410    27   113   \n",
       "\n",
       "    center_x  center_y         w         h  \n",
       "7   0.355914  0.722222  0.169892  0.333333  \n",
       "9   0.625000  0.390625  0.153333  0.376250  \n",
       "10  0.406250  0.690625  0.229167  0.353750  \n",
       "23  0.436966  0.425000  0.134615  0.516667  \n",
       "24  0.808761  0.388889  0.134615  0.477778  "
      ]
     },
     "execution_count": 128,
     "metadata": {},
     "output_type": "execute_result"
    }
   ],
   "source": [
    "test_df.head()"
   ]
  },
  {
   "cell_type": "code",
   "execution_count": 133,
   "id": "1e81cb56-2f76-41f4-b660-cc59ff7130a9",
   "metadata": {},
   "outputs": [],
   "source": [
    "# Define label encoding function\n",
    "def label_encoding(x):\n",
    "    labels = {'Doctor': 0, 'patient': 1, 'monitoring system': 2, 'Nurse': 3, 'family member': 4}\n",
    "    return labels[x]\n"
   ]
  },
  {
   "cell_type": "code",
   "execution_count": 134,
   "id": "8101b577-00d3-414f-97e1-40a72715f3a0",
   "metadata": {},
   "outputs": [],
   "source": [
    "# Apply label encoding to 'name' column\n",
    "train_df['id'] = train_df['name'].apply(label_encoding)\n",
    "test_df['id'] = test_df['name'].apply(label_encoding)"
   ]
  },
  {
   "cell_type": "code",
   "execution_count": 135,
   "id": "9d6c5e50-7e54-4e26-9999-9d6368d28f36",
   "metadata": {},
   "outputs": [
    {
     "data": {
      "text/html": [
       "<div>\n",
       "<style scoped>\n",
       "    .dataframe tbody tr th:only-of-type {\n",
       "        vertical-align: middle;\n",
       "    }\n",
       "\n",
       "    .dataframe tbody tr th {\n",
       "        vertical-align: top;\n",
       "    }\n",
       "\n",
       "    .dataframe thead th {\n",
       "        text-align: right;\n",
       "    }\n",
       "</style>\n",
       "<table border=\"1\" class=\"dataframe\">\n",
       "  <thead>\n",
       "    <tr style=\"text-align: right;\">\n",
       "      <th></th>\n",
       "      <th>filename</th>\n",
       "      <th>width</th>\n",
       "      <th>height</th>\n",
       "      <th>name</th>\n",
       "      <th>xmin</th>\n",
       "      <th>xmax</th>\n",
       "      <th>ymin</th>\n",
       "      <th>ymax</th>\n",
       "      <th>center_x</th>\n",
       "      <th>center_y</th>\n",
       "      <th>w</th>\n",
       "      <th>h</th>\n",
       "      <th>id</th>\n",
       "    </tr>\n",
       "  </thead>\n",
       "  <tbody>\n",
       "    <tr>\n",
       "      <th>0</th>\n",
       "      <td>12.jpg</td>\n",
       "      <td>1134</td>\n",
       "      <td>488</td>\n",
       "      <td>Doctor</td>\n",
       "      <td>493</td>\n",
       "      <td>598</td>\n",
       "      <td>113</td>\n",
       "      <td>277</td>\n",
       "      <td>0.481041</td>\n",
       "      <td>0.399590</td>\n",
       "      <td>0.092593</td>\n",
       "      <td>0.336066</td>\n",
       "      <td>0</td>\n",
       "    </tr>\n",
       "    <tr>\n",
       "      <th>1</th>\n",
       "      <td>12.jpg</td>\n",
       "      <td>1134</td>\n",
       "      <td>488</td>\n",
       "      <td>patient</td>\n",
       "      <td>162</td>\n",
       "      <td>238</td>\n",
       "      <td>266</td>\n",
       "      <td>351</td>\n",
       "      <td>0.176367</td>\n",
       "      <td>0.632172</td>\n",
       "      <td>0.067019</td>\n",
       "      <td>0.174180</td>\n",
       "      <td>1</td>\n",
       "    </tr>\n",
       "    <tr>\n",
       "      <th>2</th>\n",
       "      <td>12.jpg</td>\n",
       "      <td>1134</td>\n",
       "      <td>488</td>\n",
       "      <td>patient</td>\n",
       "      <td>608</td>\n",
       "      <td>679</td>\n",
       "      <td>194</td>\n",
       "      <td>271</td>\n",
       "      <td>0.567460</td>\n",
       "      <td>0.476434</td>\n",
       "      <td>0.062610</td>\n",
       "      <td>0.157787</td>\n",
       "      <td>1</td>\n",
       "    </tr>\n",
       "    <tr>\n",
       "      <th>3</th>\n",
       "      <td>12.jpg</td>\n",
       "      <td>1134</td>\n",
       "      <td>488</td>\n",
       "      <td>monitoring system</td>\n",
       "      <td>372</td>\n",
       "      <td>476</td>\n",
       "      <td>134</td>\n",
       "      <td>291</td>\n",
       "      <td>0.373898</td>\n",
       "      <td>0.435451</td>\n",
       "      <td>0.091711</td>\n",
       "      <td>0.321721</td>\n",
       "      <td>2</td>\n",
       "    </tr>\n",
       "    <tr>\n",
       "      <th>4</th>\n",
       "      <td>16.jpg</td>\n",
       "      <td>1500</td>\n",
       "      <td>1000</td>\n",
       "      <td>Doctor</td>\n",
       "      <td>811</td>\n",
       "      <td>1030</td>\n",
       "      <td>281</td>\n",
       "      <td>601</td>\n",
       "      <td>0.613667</td>\n",
       "      <td>0.441000</td>\n",
       "      <td>0.146000</td>\n",
       "      <td>0.320000</td>\n",
       "      <td>0</td>\n",
       "    </tr>\n",
       "    <tr>\n",
       "      <th>5</th>\n",
       "      <td>16.jpg</td>\n",
       "      <td>1500</td>\n",
       "      <td>1000</td>\n",
       "      <td>patient</td>\n",
       "      <td>619</td>\n",
       "      <td>911</td>\n",
       "      <td>608</td>\n",
       "      <td>855</td>\n",
       "      <td>0.510000</td>\n",
       "      <td>0.731500</td>\n",
       "      <td>0.194667</td>\n",
       "      <td>0.247000</td>\n",
       "      <td>1</td>\n",
       "    </tr>\n",
       "    <tr>\n",
       "      <th>6</th>\n",
       "      <td>16.jpg</td>\n",
       "      <td>1500</td>\n",
       "      <td>1000</td>\n",
       "      <td>Doctor</td>\n",
       "      <td>682</td>\n",
       "      <td>782</td>\n",
       "      <td>364</td>\n",
       "      <td>634</td>\n",
       "      <td>0.488000</td>\n",
       "      <td>0.499000</td>\n",
       "      <td>0.066667</td>\n",
       "      <td>0.270000</td>\n",
       "      <td>0</td>\n",
       "    </tr>\n",
       "    <tr>\n",
       "      <th>8</th>\n",
       "      <td>18.jpg</td>\n",
       "      <td>780</td>\n",
       "      <td>585</td>\n",
       "      <td>patient</td>\n",
       "      <td>30</td>\n",
       "      <td>222</td>\n",
       "      <td>75</td>\n",
       "      <td>255</td>\n",
       "      <td>0.161538</td>\n",
       "      <td>0.282051</td>\n",
       "      <td>0.246154</td>\n",
       "      <td>0.307692</td>\n",
       "      <td>1</td>\n",
       "    </tr>\n",
       "    <tr>\n",
       "      <th>11</th>\n",
       "      <td>20.jpg</td>\n",
       "      <td>1300</td>\n",
       "      <td>1065</td>\n",
       "      <td>patient</td>\n",
       "      <td>415</td>\n",
       "      <td>557</td>\n",
       "      <td>315</td>\n",
       "      <td>533</td>\n",
       "      <td>0.373846</td>\n",
       "      <td>0.398122</td>\n",
       "      <td>0.109231</td>\n",
       "      <td>0.204695</td>\n",
       "      <td>1</td>\n",
       "    </tr>\n",
       "    <tr>\n",
       "      <th>12</th>\n",
       "      <td>20.jpg</td>\n",
       "      <td>1300</td>\n",
       "      <td>1065</td>\n",
       "      <td>monitoring system</td>\n",
       "      <td>803</td>\n",
       "      <td>1062</td>\n",
       "      <td>277</td>\n",
       "      <td>593</td>\n",
       "      <td>0.717308</td>\n",
       "      <td>0.408451</td>\n",
       "      <td>0.199231</td>\n",
       "      <td>0.296714</td>\n",
       "      <td>2</td>\n",
       "    </tr>\n",
       "  </tbody>\n",
       "</table>\n",
       "</div>"
      ],
      "text/plain": [
       "   filename  width  height               name  xmin  xmax  ymin  ymax  \\\n",
       "0    12.jpg   1134     488             Doctor   493   598   113   277   \n",
       "1    12.jpg   1134     488            patient   162   238   266   351   \n",
       "2    12.jpg   1134     488            patient   608   679   194   271   \n",
       "3    12.jpg   1134     488  monitoring system   372   476   134   291   \n",
       "4    16.jpg   1500    1000             Doctor   811  1030   281   601   \n",
       "5    16.jpg   1500    1000            patient   619   911   608   855   \n",
       "6    16.jpg   1500    1000             Doctor   682   782   364   634   \n",
       "8    18.jpg    780     585            patient    30   222    75   255   \n",
       "11   20.jpg   1300    1065            patient   415   557   315   533   \n",
       "12   20.jpg   1300    1065  monitoring system   803  1062   277   593   \n",
       "\n",
       "    center_x  center_y         w         h  id  \n",
       "0   0.481041  0.399590  0.092593  0.336066   0  \n",
       "1   0.176367  0.632172  0.067019  0.174180   1  \n",
       "2   0.567460  0.476434  0.062610  0.157787   1  \n",
       "3   0.373898  0.435451  0.091711  0.321721   2  \n",
       "4   0.613667  0.441000  0.146000  0.320000   0  \n",
       "5   0.510000  0.731500  0.194667  0.247000   1  \n",
       "6   0.488000  0.499000  0.066667  0.270000   0  \n",
       "8   0.161538  0.282051  0.246154  0.307692   1  \n",
       "11  0.373846  0.398122  0.109231  0.204695   1  \n",
       "12  0.717308  0.408451  0.199231  0.296714   2  "
      ]
     },
     "execution_count": 135,
     "metadata": {},
     "output_type": "execute_result"
    }
   ],
   "source": [
    "train_df.head(10)"
   ]
  },
  {
   "cell_type": "code",
   "execution_count": 152,
   "id": "9a510ab9-9330-4caa-9346-0a8ab626a7aa",
   "metadata": {},
   "outputs": [],
   "source": [
    "import os\n",
    "from shutil import move"
   ]
  },
  {
   "cell_type": "code",
   "execution_count": 164,
   "id": "2cb4fef3-a742-47b7-b599-417d4b78bde0",
   "metadata": {},
   "outputs": [],
   "source": [
    "import os\n",
    "\n",
    "train_folder = 'data_images/train'\n",
    "test_folder = 'data_images/test'\n",
    "\n",
    "\n",
    "os.mkdir(train_folder)\n",
    "os.mkdir(test_folder)\n"
   ]
  },
  {
   "cell_type": "code",
   "execution_count": 165,
   "id": "cea70e44-da55-4618-aeb4-6b5570840d43",
   "metadata": {},
   "outputs": [],
   "source": [
    "cols = ['filename','id','center_x','center_y', 'w', 'h']\n",
    "groupby_obj_train = train_df[cols].groupby('filename')\n",
    "groupby_obj_test = test_df[cols].groupby('filename')"
   ]
  },
  {
   "cell_type": "code",
   "execution_count": 184,
   "id": "a4cbad83-a83a-4cd8-8b54-dc545ed0e18c",
   "metadata": {},
   "outputs": [],
   "source": [
    "#groupby_obj_train.get_group('12.jpg').set_index('filename').to_csv('sample.txt',index=False,header=False)\n",
    "\n",
    "def save_data(filename, folder_path, group_obj):\n",
    "    # move image\n",
    "    src = os.path.join('data_images',filename)\n",
    "    dst = os.path.join(folder_path,filename)\n",
    "    move(src,dst) # move image to the destination folder\n",
    "    \n",
    "    # save the labels\n",
    "    text_filename = os.path.join(folder_path,\n",
    "                                 os.path.splitext(filename)[0]+'.txt')\n",
    "    group_obj.get_group(filename).set_index('filename').to_csv(text_filename,sep=' ',index=False,header=False)\n",
    "    "
   ]
  },
  {
   "cell_type": "code",
   "execution_count": 185,
   "id": "55bf4b13-c74b-4294-be7c-a573ea56743d",
   "metadata": {},
   "outputs": [],
   "source": [
    "filename_series = pd.Series(groupby_obj_train.groups.keys())"
   ]
  },
  {
   "cell_type": "code",
   "execution_count": 187,
   "id": "c63b1196-2584-4ed1-88a7-5aa17101bd3d",
   "metadata": {},
   "outputs": [
    {
     "data": {
      "text/plain": [
       "0     None\n",
       "1     None\n",
       "2     None\n",
       "3     None\n",
       "4     None\n",
       "5     None\n",
       "6     None\n",
       "7     None\n",
       "8     None\n",
       "9     None\n",
       "10    None\n",
       "11    None\n",
       "12    None\n",
       "13    None\n",
       "14    None\n",
       "15    None\n",
       "16    None\n",
       "17    None\n",
       "dtype: object"
      ]
     },
     "execution_count": 187,
     "metadata": {},
     "output_type": "execute_result"
    }
   ],
   "source": [
    "filename_series.apply(save_data,args=(train_folder,groupby_obj_train))"
   ]
  },
  {
   "cell_type": "code",
   "execution_count": 188,
   "id": "d390c0fa-cb62-4cc4-93a7-c80ac02c95fb",
   "metadata": {},
   "outputs": [
    {
     "data": {
      "text/plain": [
       "0    None\n",
       "1    None\n",
       "2    None\n",
       "3    None\n",
       "4    None\n",
       "dtype: object"
      ]
     },
     "execution_count": 188,
     "metadata": {},
     "output_type": "execute_result"
    }
   ],
   "source": [
    "filename_series_test = pd.Series(groupby_obj_test.groups.keys())\n",
    "filename_series_test.apply(save_data,args=(test_folder,groupby_obj_test))"
   ]
  },
  {
   "cell_type": "code",
   "execution_count": 51,
   "id": "a47d4eea-28bf-4786-9cd8-e54bb1777ad3",
   "metadata": {},
   "outputs": [
    {
     "name": "stdout",
     "output_type": "stream",
     "text": [
      "Source: data_images\\file1.jpg\n",
      "Destination: data_images/train\\file1.jpg\n",
      "Source file data_images\\file1.jpg not found.\n",
      "Source: data_images\\file2.jpg\n",
      "Destination: data_images/train\\file2.jpg\n",
      "Source file data_images\\file2.jpg not found.\n",
      "0    None\n",
      "1    None\n",
      "dtype: object\n"
     ]
    }
   ],
   "source": [
    "import os\n",
    "import pandas as pd\n",
    "from shutil import move\n",
    "\n",
    "# Sample DataFrame definitions for train and test data\n",
    "train_df = pd.DataFrame({\n",
    "    'filename': ['file1.jpg', 'file2.jpg'],\n",
    "    'id': [1, 2],\n",
    "    'center_x': [100, 150],\n",
    "    'center_y': [200, 250],\n",
    "    'w': [50, 60],\n",
    "    'h': [80, 90]\n",
    "})\n",
    "\n",
    "test_df = pd.DataFrame({\n",
    "    'filename': ['file3.jpg', 'file4.jpg'],\n",
    "    'id': [3, 4],\n",
    "    'center_x': [120, 160],\n",
    "    'center_y': [220, 260],\n",
    "    'w': [55, 65],\n",
    "    'h': [85, 95]\n",
    "})\n",
    "\n",
    "# Define paths\n",
    "train_folder = 'data_images/train'\n",
    "test_folder = 'data_images/test'\n",
    "\n",
    "# Check if directories exist before creating them\n",
    "if not os.path.exists(train_folder):\n",
    "    os.makedirs(train_folder)\n",
    "if not os.path.exists(test_folder):\n",
    "    os.makedirs(test_folder)\n",
    "\n",
    "# Group by filename\n",
    "cols = ['filename', 'id', 'center_x', 'center_y', 'w', 'h']\n",
    "groupby_obj_train = train_df[cols].groupby('filename')\n",
    "groupby_obj_test = test_df[cols].groupby('filename')\n",
    "\n",
    "# Define filename series\n",
    "filename_series = pd.Series(['file1.jpg', 'file2.jpg'])\n",
    "\n",
    "# Function to save data\n",
    "def save_data(filename, folder_path, group_obj):\n",
    "    src = os.path.join('data_images', filename)\n",
    "    dst = os.path.join(folder_path, filename)\n",
    "    print(f\"Source: {src}\")\n",
    "    print(f\"Destination: {dst}\")\n",
    "    if not os.path.exists(src):\n",
    "        print(f\"Source file {src} not found.\")\n",
    "        return None\n",
    "    move(src, dst)  # move image to the destination folder\n",
    "    \n",
    "    # Save the labels\n",
    "    text_filename = os.path.join(folder_path, os.path.splitext(filename)[0] + '.txt')\n",
    "    if filename in group_obj.groups:\n",
    "        labels = group_obj.get_group(filename)\n",
    "        with open(text_filename, 'w') as f:\n",
    "            for index, row in labels.iterrows():\n",
    "                f.write(f\"{row['id']} {row['center_x']} {row['center_y']} {row['w']} {row['h']}\\n\")\n",
    "    else:\n",
    "        print(f\"No labels found for {filename}\")\n",
    "    return \"Data saved successfully\"\n",
    "\n",
    "# Apply the function\n",
    "result = filename_series.apply(save_data, args=(train_folder, groupby_obj_train))\n",
    "print(result)\n"
   ]
  },
  {
   "cell_type": "code",
   "execution_count": 53,
   "id": "205e6649-636a-4a7f-a6ff-0d385e857af9",
   "metadata": {},
   "outputs": [
    {
     "name": "stdout",
     "output_type": "stream",
     "text": [
      "Source: data_images\\file1.jpg\n",
      "Destination: data_images/train\\file1.jpg\n",
      "Source file data_images\\file1.jpg not found.\n",
      "Source: data_images\\file2.jpg\n",
      "Destination: data_images/train\\file2.jpg\n",
      "Source file data_images\\file2.jpg not found.\n"
     ]
    },
    {
     "data": {
      "text/plain": [
       "0    None\n",
       "1    None\n",
       "dtype: object"
      ]
     },
     "execution_count": 53,
     "metadata": {},
     "output_type": "execute_result"
    }
   ],
   "source": [
    "filename_series.apply(save_data,args=(train_folder,groupby_obj_train))"
   ]
  },
  {
   "cell_type": "code",
   "execution_count": 40,
   "id": "4712d42c-00a4-414e-b7f7-2ea6dc25180e",
   "metadata": {},
   "outputs": [],
   "source": [
    "import pandas as pd\n",
    "\n",
    "# Example DataFrame definitions, replace with actual data loading code\n",
    "train_df = pd.DataFrame({\n",
    "    'filename': ['file1.jpg', 'file2.jpg'],\n",
    "    'id': [1, 2],\n",
    "    'center_x': [100, 150],\n",
    "    'center_y': [200, 250],\n",
    "    'w': [50, 60],\n",
    "    'h': [80, 90]\n",
    "})\n",
    "\n",
    "test_df = pd.DataFrame({\n",
    "    'filename': ['file3.jpg', 'file4.jpg'],\n",
    "    'id': [3, 4],\n",
    "    'center_x': [120, 160],\n",
    "    'center_y': [220, 260],\n",
    "    'w': [55, 65],\n",
    "    'h': [85, 95]\n",
    "})\n",
    "\n",
    "cols = ['filename', 'id', 'center_x', 'center_y', 'w', 'h']\n",
    "groupby_obj_train = train_df[cols].groupby('filename')\n",
    "groupby_obj_test = test_df[cols].groupby('filename')\n",
    "\n",
    "# Proceed with your code using groupby_obj_train and groupby_obj_test\n"
   ]
  },
  {
   "cell_type": "code",
   "execution_count": 38,
   "id": "5abe310b-056c-42c8-80da-87cc3993abb5",
   "metadata": {},
   "outputs": [],
   "source": [
    "def save_data(filename, folder_path, group_obj):\n",
    "    # move image\n",
    "    src = os.path.join('data_images',filename)\n",
    "    dst = os.path.join(folder_path,filename)\n",
    "    move(src,dst) # move image to the destination folder\n",
    "    \n",
    "    # save the labels\n",
    "    text_filename = os.path.join(folder_path,\n",
    "                                 os.path.splitext(filename)[0]+'.txt')\n",
    "    group_obj.get_group(filename).set_index('filename').to_csv(text_filename,sep=' ',index=False,header=False)\n",
    "    "
   ]
  },
  {
   "cell_type": "code",
   "execution_count": 43,
   "id": "d21f71c3-d541-4cec-a5a1-4531e7da2903",
   "metadata": {},
   "outputs": [
    {
     "name": "stdout",
     "output_type": "stream",
     "text": [
      "Train file path: path_to_train_file.csv\n",
      "Test file path: path_to_test_file.csv\n",
      "Train file not found at path_to_train_file.csv\n",
      "Test file not found at path_to_test_file.csv\n"
     ]
    }
   ],
   "source": [
    "import pandas as pd\n",
    "import os\n",
    "\n",
    "# Define the paths to the CSV files\n",
    "train_file_path = 'path_to_train_file.csv'\n",
    "test_file_path = 'path_to_test_file.csv'\n",
    "\n",
    "# Print the paths to ensure they are correct\n",
    "print(f\"Train file path: {train_file_path}\")\n",
    "print(f\"Test file path: {test_file_path}\")\n",
    "\n",
    "# Check if the files exist before trying to read them\n",
    "if not os.path.exists(train_file_path):\n",
    "    print(f\"Train file not found at {train_file_path}\")\n",
    "else:\n",
    "    train_df = pd.read_csv(train_file_path)\n",
    "    print(\"Train file loaded successfully\")\n",
    "\n",
    "if not os.path.exists(test_file_path):\n",
    "    print(f\"Test file not found at {test_file_path}\")\n",
    "else:\n",
    "    test_df = pd.read_csv(test_file_path)\n",
    "    print(\"Test file loaded successfully\")\n",
    "\n",
    "# Proceed with your code if both files are loaded successfully\n",
    "if 'train_df' in locals() and 'test_df' in locals():\n",
    "    cols = ['filename', 'id', 'center_x', 'center_y', 'w', 'h']\n",
    "    groupby_obj_train = train_df[cols].groupby('filename')\n",
    "    groupby_obj_test = test_df[cols].groupby('filename')\n",
    "\n",
    "    # Rest of your code using groupby_obj_train and groupby_obj_test\n",
    "\n"
   ]
  },
  {
   "cell_type": "code",
   "execution_count": 44,
   "id": "0fdf718e-4865-4bd7-907a-a338e7202e26",
   "metadata": {},
   "outputs": [],
   "source": [
    "filename_series = pd.Series(groupby_obj_train.groups.keys())"
   ]
  },
  {
   "cell_type": "code",
   "execution_count": 45,
   "id": "910f0568-11f4-415c-9c3c-4a5eb58ab29b",
   "metadata": {},
   "outputs": [
    {
     "name": "stdout",
     "output_type": "stream",
     "text": [
      "Checking path: data_images/train\\file1.jpg\n",
      "Source file data_images/train\\file1.jpg not found.\n",
      "Checking path: data_images/train\\file2.jpg\n",
      "Source file data_images/train\\file2.jpg not found.\n",
      "0    None\n",
      "1    None\n",
      "dtype: object\n"
     ]
    }
   ],
   "source": [
    "import os\n",
    "\n",
    "def save_data(filename, train_folder, groupby_obj_train):\n",
    "    filepath = os.path.join(train_folder, filename)\n",
    "    print(f\"Checking path: {filepath}\")\n",
    "    if not os.path.exists(filepath):\n",
    "        print(f\"Source file {filepath} not found.\")\n",
    "        return None\n",
    "    # Your existing code to save data\n",
    "    # For example, you can load and process the image here\n",
    "    # img = load_image(filepath)\n",
    "    # process_image(img, groupby_obj_train)\n",
    "    return \"Data saved successfully\"  # or any relevant return value\n",
    "\n",
    "# Assuming filename_series is a pandas Series containing filenames\n",
    "filename_series = pd.Series(['file1.jpg', 'file2.jpg'])\n",
    "\n",
    "train_folder = 'data_images/train'  # Update this path as needed\n",
    "groupby_obj_train = None  # Update this with the actual object you are passing\n",
    "\n",
    "result = filename_series.apply(save_data, args=(train_folder, groupby_obj_train))\n",
    "print(result)\n"
   ]
  },
  {
   "cell_type": "code",
   "execution_count": 54,
   "id": "6f5434fd-bc96-4ec1-af03-1011af078b98",
   "metadata": {},
   "outputs": [
    {
     "name": "stdout",
     "output_type": "stream",
     "text": [
      "Source: data_images\\file3.jpg\n",
      "Destination: data_images/test\\file3.jpg\n",
      "Source file data_images\\file3.jpg not found.\n",
      "Source: data_images\\file4.jpg\n",
      "Destination: data_images/test\\file4.jpg\n",
      "Source file data_images\\file4.jpg not found.\n"
     ]
    },
    {
     "data": {
      "text/plain": [
       "0    None\n",
       "1    None\n",
       "dtype: object"
      ]
     },
     "execution_count": 54,
     "metadata": {},
     "output_type": "execute_result"
    }
   ],
   "source": [
    "filename_series_test = pd.Series(groupby_obj_test.groups.keys())\n",
    "filename_series_test.apply(save_data,args=(test_folder,groupby_obj_test))"
   ]
  },
  {
   "cell_type": "code",
   "execution_count": null,
   "id": "6eb226f3-0cfb-4b7e-a72a-44d6727f2208",
   "metadata": {},
   "outputs": [],
   "source": []
  }
 ],
 "metadata": {
  "kernelspec": {
   "display_name": "Python 3 (ipykernel)",
   "language": "python",
   "name": "python3"
  },
  "language_info": {
   "codemirror_mode": {
    "name": "ipython",
    "version": 3
   },
   "file_extension": ".py",
   "mimetype": "text/x-python",
   "name": "python",
   "nbconvert_exporter": "python",
   "pygments_lexer": "ipython3",
   "version": "3.9.6"
  }
 },
 "nbformat": 4,
 "nbformat_minor": 5
}
